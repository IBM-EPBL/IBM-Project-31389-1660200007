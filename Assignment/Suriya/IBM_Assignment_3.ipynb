{
  "cells": [
    {
      "cell_type": "markdown",
      "metadata": {
        "id": "7pBKdfNuB7rg"
      },
      "source": [
        "#**TEAM DETAILS**<br>\n",
        "#**TEAM ID: PNT2022TMID23152**\n",
        "<ul>\n",
        "<li>Maya Jegadish P</li>\n",
        "<li>Srivartshan M</li>\n",
        "<li>Mohammed Abdul Qayyum M</li>\n",
        "<li>Suriya A</li>\n",
        "</ul>"
      ]
    },
    {
      "cell_type": "markdown",
      "metadata": {
        "id": "AgZ5oRgc8qBw"
      },
      "source": [
        "#**Exercises**"
      ]
    },
    {
      "cell_type": "markdown",
      "metadata": {
        "id": "PKXYyQEP8w2i"
      },
      "source": [
        "Answer the questions or complete the tasks outlined in bold below, use the specific method described if applicable."
      ]
    },
    {
      "cell_type": "markdown",
      "metadata": {
        "id": "VQCEYV7880yJ"
      },
      "source": [
        "What is 7 to the power of 4?"
      ]
    },
    {
      "cell_type": "code",
      "execution_count": null,
      "metadata": {
        "colab": {
          "base_uri": "https://localhost:8080/"
        },
        "id": "vTIKlVox6bA8",
        "outputId": "ea0ca11b-b0bc-4269-d644-cfe262d2bdcb"
      },
      "outputs": [
        {
          "data": {
            "text/plain": [
              "2401"
            ]
          },
          "execution_count": 1,
          "metadata": {},
          "output_type": "execute_result"
        }
      ],
      "source": [
        "7**4"
      ]
    },
    {
      "cell_type": "markdown",
      "metadata": {
        "id": "-c_GL5Yt9HFO"
      },
      "source": [
        "Split this string:\n",
        "\n",
        "s = \"Hi there Sam!\"\n",
        "\n",
        "into a list.\n"
      ]
    },
    {
      "cell_type": "code",
      "execution_count": null,
      "metadata": {
        "colab": {
          "base_uri": "https://localhost:8080/"
        },
        "id": "GzQ3liOz9wDK",
        "outputId": "3245aab2-fb9b-4567-8f06-10e66f9d59ba"
      },
      "outputs": [
        {
          "name": "stdout",
          "output_type": "stream",
          "text": [
            "['Hi', 'there', 'Sam!']\n"
          ]
        }
      ],
      "source": [
        "s=\"Hi there Sam!\"\n",
        "X=s.split()\n",
        "print(X)"
      ]
    },
    {
      "cell_type": "markdown",
      "metadata": {
        "id": "J97qXsgx-BMi"
      },
      "source": [
        "Given the variables:\n",
        "\n",
        "planet = \"Earth\"\n",
        "diameter = 12742\n",
        "\n",
        "Use .format() to print the following string:\n",
        "\n",
        "The diameter of Earth is 12742 kilometers."
      ]
    },
    {
      "cell_type": "code",
      "execution_count": null,
      "metadata": {
        "colab": {
          "base_uri": "https://localhost:8080/"
        },
        "id": "92HuiXYk-IiT",
        "outputId": "ae34be76-4a6e-49b8-b7e8-dcb8c3648a12"
      },
      "outputs": [
        {
          "name": "stdout",
          "output_type": "stream",
          "text": [
            "The diameter of Earth is 12742 kilometers.\n"
          ]
        }
      ],
      "source": [
        "planet=\"Earth\"\n",
        "diameter=12742\n",
        "print(\"The diameter of \"+str(planet), \"is\",diameter,\"kilometers.\")"
      ]
    },
    {
      "cell_type": "markdown",
      "metadata": {
        "id": "IWRsQVl0-O0f"
      },
      "source": [
        "Given this nested list, use indexing to grab the word \"hello\""
      ]
    },
    {
      "cell_type": "code",
      "execution_count": null,
      "metadata": {
        "id": "HV0Y9OuJ-TNw"
      },
      "outputs": [],
      "source": [
        "lst = [1,2,[3,4],[5,[100,200,['hello']],23,11],1,7]"
      ]
    },
    {
      "cell_type": "code",
      "execution_count": null,
      "metadata": {
        "colab": {
          "base_uri": "https://localhost:8080/"
        },
        "id": "k_QUpjDc-cG-",
        "outputId": "c8e51a8d-21db-4831-d7c6-1b9385654d29"
      },
      "outputs": [
        {
          "name": "stdout",
          "output_type": "stream",
          "text": [
            "['hello']\n"
          ]
        }
      ],
      "source": [
        "lst = [1,2,[3,4],[5,[100,200,['hello']],23,11],1,7]\n",
        "a=lst[3][1][2]\n",
        "print(a)"
      ]
    },
    {
      "cell_type": "markdown",
      "metadata": {
        "id": "y4fS5sdL-IFb"
      },
      "source": [
        "Given this nest dictionary grab the word \"hello\". "
      ]
    },
    {
      "cell_type": "code",
      "execution_count": null,
      "metadata": {
        "id": "8SoRyLnG-iJw"
      },
      "outputs": [],
      "source": [
        "d = {'k1':[1,2,3,{'tricky':['oh','man','inception',{'target':[1,2,3,'hello']}]}]}"
      ]
    },
    {
      "cell_type": "code",
      "execution_count": null,
      "metadata": {
        "colab": {
          "base_uri": "https://localhost:8080/"
        },
        "id": "ZGbpWsuQ-lN7",
        "outputId": "bc2a0c34-19e8-495c-a8f4-cf4fa47dcc9c"
      },
      "outputs": [
        {
          "name": "stdout",
          "output_type": "stream",
          "text": [
            "hello\n"
          ]
        }
      ],
      "source": [
        "d = {'k1':[1,2,3,{'tricky':['oh','man','inception',{'target':[1,2,3,'hello']}]}]}\n",
        "print(d['k1'][3][\"tricky\"][3]['target'][3])"
      ]
    },
    {
      "cell_type": "markdown",
      "metadata": {
        "id": "20nAKVl6-pD-"
      },
      "source": [
        "What is the main difference between a tuple and a list?"
      ]
    },
    {
      "cell_type": "code",
      "execution_count": null,
      "metadata": {
        "id": "cMFOJI3Z-t3h"
      },
      "outputs": [],
      "source": [
        "#TUPLE\n",
        "#Tuple is immutable.\n",
        "#The items in tuples are surrounded by parentheses( ). \n",
        "#In tuple the implication of iterations is comparatively Faster.\n",
        "#Tuples consumes less memory.\n",
        "\n",
        "#LIST\n",
        "#The items in lists are surrounded by square brackets [  ].\n",
        "#Lists are mutable\n",
        "#In list the implication of iterations is Time-consuming\n",
        "#Lists consume more memory"
      ]
    },
    {
      "cell_type": "markdown",
      "metadata": {
        "id": "IYMechD4-xlw"
      },
      "source": [
        "Create a function that grabs the email website domain from a string in the form:\n",
        "\n",
        "user@domain.com\n",
        "\n",
        "So for example, passing \"user@domain.com\" would return: domain.com"
      ]
    },
    {
      "cell_type": "code",
      "execution_count": null,
      "metadata": {
        "id": "RS58FfNF-2BN"
      },
      "outputs": [],
      "source": [
        "def domainGet(email):\n",
        "    return email.split('@')[-1]"
      ]
    },
    {
      "cell_type": "code",
      "execution_count": null,
      "metadata": {
        "colab": {
          "base_uri": "https://localhost:8080/",
          "height": 35
        },
        "id": "wE0BQuiv-6UM",
        "outputId": "cf78c3cc-014b-4cb0-f906-254e0bef2ba6"
      },
      "outputs": [
        {
          "data": {
            "application/vnd.google.colaboratory.intrinsic+json": {
              "type": "string"
            },
            "text/plain": [
              "'domain.com'"
            ]
          },
          "execution_count": 10,
          "metadata": {},
          "output_type": "execute_result"
        }
      ],
      "source": [
        "domainGet('user@domain.com')"
      ]
    },
    {
      "cell_type": "markdown",
      "metadata": {
        "id": "h0eov-dW_A2Q"
      },
      "source": [
        "Create a basic function that returns True if the word 'dog' is contained in the input string. Don't worry about edge cases like a punctuation being attached to the word dog, but do account for capitalization."
      ]
    },
    {
      "cell_type": "code",
      "execution_count": null,
      "metadata": {
        "colab": {
          "base_uri": "https://localhost:8080/"
        },
        "id": "nMjH_LdH_CFp",
        "outputId": "bbb92134-6048-43e9-8475-4f9ed5f62aa3"
      },
      "outputs": [
        {
          "name": "stdout",
          "output_type": "stream",
          "text": [
            "True\n"
          ]
        }
      ],
      "source": [
        "def findDog(st):\n",
        "    if 'dog' in st.lower():\n",
        "        print(\"True\")\n",
        "    else:\n",
        "        print(\"False\")\n",
        "\n",
        "st = \"Is there a dog here?\"\n",
        "findDog(st)"
      ]
    },
    {
      "cell_type": "code",
      "execution_count": null,
      "metadata": {
        "colab": {
          "base_uri": "https://localhost:8080/"
        },
        "id": "87v5Bw4J_FrE",
        "outputId": "9032628e-9735-4c3d-b04a-135779316fcd"
      },
      "outputs": [
        {
          "name": "stdout",
          "output_type": "stream",
          "text": [
            "True\n"
          ]
        }
      ],
      "source": [
        "findDog('Is there a dog here?')"
      ]
    },
    {
      "cell_type": "markdown",
      "metadata": {
        "id": "oop_hX6q_LEH"
      },
      "source": [
        "Create a function that counts the number of times the word \"dog\" occurs in a string. Again ignore edge cases."
      ]
    },
    {
      "cell_type": "code",
      "execution_count": null,
      "metadata": {
        "id": "j4ul29Wm_OvS"
      },
      "outputs": [],
      "source": [
        "def countDog(st):\n",
        "    count = 0\n",
        "    for word in st.lower().split():\n",
        "        if word == 'dog':\n",
        "            count += 1\n",
        "    return count"
      ]
    },
    {
      "cell_type": "code",
      "execution_count": null,
      "metadata": {
        "colab": {
          "base_uri": "https://localhost:8080/"
        },
        "id": "fsz5L-Y7_T5-",
        "outputId": "908852c3-460f-4ae5-b8ec-99efdfafcdcb"
      },
      "outputs": [
        {
          "data": {
            "text/plain": [
              "2"
            ]
          },
          "execution_count": 14,
          "metadata": {},
          "output_type": "execute_result"
        }
      ],
      "source": [
        "countDog('This dog runs faster than the other dog dude!')"
      ]
    },
    {
      "cell_type": "markdown",
      "metadata": {
        "id": "KQFRG-IN_f61"
      },
      "source": [
        "#**Problem**"
      ]
    },
    {
      "cell_type": "markdown",
      "metadata": {
        "id": "QMdu4CNU_br7"
      },
      "source": [
        "You are driving a little too fast, and a police officer stops you. Write a function to return one of 3 possible results: \"No ticket\", \"Small ticket\", or \"Big Ticket\". If your speed is 60 or less, the result is \"No Ticket\". If speed is between 61 and 80 inclusive, the result is \"Small Ticket\". If speed is 81 or more, the result is \"Big Ticket\". Unless it is your birthday (encoded as a boolean value in the parameters of the function) -- on your birthday, your speed can be 5 higher in all cases."
      ]
    },
    {
      "cell_type": "code",
      "execution_count": null,
      "metadata": {
        "id": "oJjTcQxr_i5t"
      },
      "outputs": [],
      "source": [
        "def caught_speeding(speed, is_birthday):\n",
        "    \n",
        "    if is_birthday:\n",
        "        speeding = speed - 5\n",
        "    else:\n",
        "        speeding = speed\n",
        "    \n",
        "    if speeding > 80:\n",
        "        return 'Big Ticket'\n",
        "    elif speeding > 60:\n",
        "        return 'Small Ticket'\n",
        "    else:\n",
        "        return 'No Ticket'"
      ]
    },
    {
      "cell_type": "code",
      "execution_count": null,
      "metadata": {
        "colab": {
          "base_uri": "https://localhost:8080/",
          "height": 35
        },
        "id": "22jgWtmp_np3",
        "outputId": "5343605e-7840-4fd6-cabf-7a4be62f5cb3"
      },
      "outputs": [
        {
          "data": {
            "application/vnd.google.colaboratory.intrinsic+json": {
              "type": "string"
            },
            "text/plain": [
              "'Big Ticket'"
            ]
          },
          "execution_count": 16,
          "metadata": {},
          "output_type": "execute_result"
        }
      ],
      "source": [
        "caught_speeding(81,False)"
      ]
    },
    {
      "cell_type": "code",
      "execution_count": null,
      "metadata": {
        "colab": {
          "base_uri": "https://localhost:8080/",
          "height": 35
        },
        "id": "dMNTvsMD_tTV",
        "outputId": "d6d1caf4-3e13-4715-9dcf-005e429dc3c8"
      },
      "outputs": [
        {
          "data": {
            "application/vnd.google.colaboratory.intrinsic+json": {
              "type": "string"
            },
            "text/plain": [
              "'Small Ticket'"
            ]
          },
          "execution_count": 17,
          "metadata": {},
          "output_type": "execute_result"
        }
      ],
      "source": [
        "caught_speeding(81,True)"
      ]
    },
    {
      "cell_type": "markdown",
      "metadata": {
        "id": "RmKt24xk_xsm"
      },
      "source": [
        "Create an employee list with basic salary values(at least 5 values for 5 employees) and using a for loop retreive each employee salary and calculate total salary expenditure.\n",
        "\n"
      ]
    },
    {
      "cell_type": "code",
      "execution_count": null,
      "metadata": {
        "colab": {
          "base_uri": "https://localhost:8080/"
        },
        "id": "5MoMwM0V_yoh",
        "outputId": "bebe525f-4aa2-49a2-dc09-acc4a6e1a48a"
      },
      "outputs": [
        {
          "name": "stdout",
          "output_type": "stream",
          "text": [
            "Enter salary for Hari: 2500\n",
            "Enter salary for Dinesh: 6200\n",
            "Enter salary for Sandeep: 4500\n",
            "Enter salary for Saravanan: 2000\n",
            "Enter salary for Naveen: 3000\n",
            "Enter salary for Guru: 4600\n",
            "{'Hari': 2500, 'Dinesh': 6200, 'Sandeep': 4500, 'Saravanan': 2000, 'Naveen': 3000, 'Guru': 4600}\n",
            "Total Salary Expenditure  22800\n"
          ]
        }
      ],
      "source": [
        "employees = [\"Hari\", \"Dinesh\", \"Sandeep\", \"Saravanan\", \"Naveen\", \"Guru\"]    \n",
        "salary={}\n",
        "for emp in employees:\n",
        "    try:\n",
        "       amount=int(input(f'Enter salary for {emp}: '))\n",
        "       salary[emp]=amount\n",
        "    except ValueError:\n",
        "       print(f'Wrong salary input for {emp} ')\n",
        "print(salary)\n",
        "print('Total Salary Expenditure ',sum(salary.values()))"
      ]
    },
    {
      "cell_type": "markdown",
      "metadata": {
        "id": "X2BsDkz-BHK_"
      },
      "source": [
        "Create two dictionaries in Python:\n",
        "\n",
        "First one to contain fields as Empid, Empname, Basicpay\n",
        "\n",
        "Second dictionary to contain fields as DeptName, DeptId.\n",
        "\n",
        "Combine both dictionaries."
      ]
    },
    {
      "cell_type": "code",
      "execution_count": null,
      "metadata": {
        "colab": {
          "base_uri": "https://localhost:8080/"
        },
        "id": "C51fjb59BJel",
        "outputId": "f27478b2-1487-41a0-9c08-8330c5b12757"
      },
      "outputs": [
        {
          "name": "stdout",
          "output_type": "stream",
          "text": [
            "{'Empid': 101, 'empname': 'Harikrishnan', 'Basicpay': 200000, 'DeptName': 'DEVELOPER', 'DeptId': 420}\n"
          ]
        }
      ],
      "source": [
        "dic1 = {'Empid': 101, 'empname': 'Harikrishnan', 'Basicpay' : 200000 }\n",
        "dic2 = {'DeptName': 'DEVELOPER','DeptId': 420, }\n",
        "\n",
        "dic3 = {**dic1,**dic2}\n",
        "print (dic3)"
      ]
    },
    {
      "cell_type": "markdown",
      "metadata": {
        "id": "ytJcSIU08odj"
      },
      "source": []
    }
  ],
  "metadata": {
    "colab": {
      "provenance": []
    },
    "kernelspec": {
      "display_name": "Python 3",
      "name": "python3"
    },
    "language_info": {
      "name": "python"
    }
  },
  "nbformat": 4,
  "nbformat_minor": 0
}
